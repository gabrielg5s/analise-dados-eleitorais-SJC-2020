{
 "cells": [
  {
   "cell_type": "code",
   "execution_count": 20,
   "metadata": {},
   "outputs": [],
   "source": [
    "#Importamos as bibliotecas\n",
    "import pandas as pd\n",
    "import matplotlib.pyplot as plt\n",
    "import seaborn as sd\n",
    "low_memory=False\n",
    "%matplotlib inline\n"
   ]
  },
  {
   "cell_type": "code",
   "execution_count": 62,
   "metadata": {},
   "outputs": [],
   "source": [
    "#Selecionando arquivo para leitura\n",
    "\n",
    "df = pd.read_csv(r'perfil_eleitor_SJC_2020.csv', delimiter=';',  encoding='latin-1',\n",
    "                 error_bad_lines=False)"
   ]
  },
  {
   "cell_type": "code",
   "execution_count": 63,
   "metadata": {},
   "outputs": [
    {
     "data": {
      "text/plain": [
       "(1114, 21)"
      ]
     },
     "execution_count": 63,
     "metadata": {},
     "output_type": "execute_result"
    }
   ],
   "source": [
    "#Verificando tamanho do arquivo\n",
    "\n",
    "df.shape"
   ]
  },
  {
   "cell_type": "code",
   "execution_count": 64,
   "metadata": {},
   "outputs": [
    {
     "name": "stdout",
     "output_type": "stream",
     "text": [
      "<class 'pandas.core.frame.DataFrame'>\n",
      "RangeIndex: 1114 entries, 0 to 1113\n",
      "Data columns (total 21 columns):\n",
      " #   Column                      Non-Null Count  Dtype  \n",
      "---  ------                      --------------  -----  \n",
      " 0   ï»¿DT_GERACAO               1101 non-null   object \n",
      " 1   HH_GERACAO                  1101 non-null   object \n",
      " 2   ANO_ELEICAO                 1101 non-null   float64\n",
      " 3   SG_UF                       1101 non-null   object \n",
      " 4   CD_MUNICIPIO                1101 non-null   float64\n",
      " 5   NM_MUNICIPIO                1101 non-null   object \n",
      " 6   CD_MUN_SIT_BIOMETRIA        1101 non-null   float64\n",
      " 7   DS_MUN_SIT_BIOMETRIA        1101 non-null   object \n",
      " 8   NR_ZONA                     1101 non-null   float64\n",
      " 9   CD_GENERO                   1101 non-null   float64\n",
      " 10  DS_GENERO                   1101 non-null   object \n",
      " 11  CD_ESTADO_CIVIL             1101 non-null   float64\n",
      " 12  DS_ESTADO_CIVIL             1101 non-null   object \n",
      " 13  CD_FAIXA_ETARIA             1101 non-null   float64\n",
      " 14  DS_FAIXA_ETARIA             1101 non-null   object \n",
      " 15  CD_GRAU_ESCOLARIDADE        1101 non-null   float64\n",
      " 16  DS_GRAU_ESCOLARIDADE        1101 non-null   object \n",
      " 17  QT_ELEITORES_PERFIL         1101 non-null   float64\n",
      " 18  QT_ELEITORES_BIOMETRIA      1101 non-null   float64\n",
      " 19  QT_ELEITORES_DEFICIENCIA    1101 non-null   float64\n",
      " 20  QT_ELEITORES_INC_NM_SOCIAL  1101 non-null   float64\n",
      "dtypes: float64(12), object(9)\n",
      "memory usage: 143.7+ KB\n"
     ]
    }
   ],
   "source": [
    "#Informações das Colunas\n",
    "\n",
    "df.info()"
   ]
  },
  {
   "cell_type": "code",
   "execution_count": 65,
   "metadata": {},
   "outputs": [
    {
     "data": {
      "text/html": [
       "<div>\n",
       "<style scoped>\n",
       "    .dataframe tbody tr th:only-of-type {\n",
       "        vertical-align: middle;\n",
       "    }\n",
       "\n",
       "    .dataframe tbody tr th {\n",
       "        vertical-align: top;\n",
       "    }\n",
       "\n",
       "    .dataframe thead th {\n",
       "        text-align: right;\n",
       "    }\n",
       "</style>\n",
       "<table border=\"1\" class=\"dataframe\">\n",
       "  <thead>\n",
       "    <tr style=\"text-align: right;\">\n",
       "      <th></th>\n",
       "      <th>ï»¿DT_GERACAO</th>\n",
       "      <th>HH_GERACAO</th>\n",
       "      <th>ANO_ELEICAO</th>\n",
       "      <th>SG_UF</th>\n",
       "      <th>CD_MUNICIPIO</th>\n",
       "      <th>NM_MUNICIPIO</th>\n",
       "      <th>CD_MUN_SIT_BIOMETRIA</th>\n",
       "      <th>DS_MUN_SIT_BIOMETRIA</th>\n",
       "      <th>NR_ZONA</th>\n",
       "      <th>CD_GENERO</th>\n",
       "      <th>DS_GENERO</th>\n",
       "      <th>CD_ESTADO_CIVIL</th>\n",
       "      <th>DS_ESTADO_CIVIL</th>\n",
       "      <th>CD_FAIXA_ETARIA</th>\n",
       "      <th>DS_FAIXA_ETARIA</th>\n",
       "      <th>CD_GRAU_ESCOLARIDADE</th>\n",
       "      <th>DS_GRAU_ESCOLARIDADE</th>\n",
       "      <th>QT_ELEITORES_PERFIL</th>\n",
       "      <th>QT_ELEITORES_BIOMETRIA</th>\n",
       "      <th>QT_ELEITORES_DEFICIENCIA</th>\n",
       "      <th>QT_ELEITORES_INC_NM_SOCIAL</th>\n",
       "    </tr>\n",
       "  </thead>\n",
       "  <tbody>\n",
       "    <tr>\n",
       "      <th>36</th>\n",
       "      <td>10/09/2020</td>\n",
       "      <td>23:04:11</td>\n",
       "      <td>2020.0</td>\n",
       "      <td>SP</td>\n",
       "      <td>70998.0</td>\n",
       "      <td>SÃO JOSÃ DOS CAMPOS</td>\n",
       "      <td>0.0</td>\n",
       "      <td>Sem biometria</td>\n",
       "      <td>127.0</td>\n",
       "      <td>2.0</td>\n",
       "      <td>MASCULINO</td>\n",
       "      <td>1.0</td>\n",
       "      <td>SOLTEIRO</td>\n",
       "      <td>2124.0</td>\n",
       "      <td>21 a 24 anos</td>\n",
       "      <td>2.0</td>\n",
       "      <td>LÃ E ESCREVE</td>\n",
       "      <td>8.0</td>\n",
       "      <td>8.0</td>\n",
       "      <td>1.0</td>\n",
       "      <td>0.0</td>\n",
       "    </tr>\n",
       "    <tr>\n",
       "      <th>809</th>\n",
       "      <td>10/09/2020</td>\n",
       "      <td>23:04:11</td>\n",
       "      <td>2020.0</td>\n",
       "      <td>SP</td>\n",
       "      <td>70998.0</td>\n",
       "      <td>SÃO JOSÃ DOS CAMPOS</td>\n",
       "      <td>0.0</td>\n",
       "      <td>Sem biometria</td>\n",
       "      <td>282.0</td>\n",
       "      <td>4.0</td>\n",
       "      <td>FEMININO</td>\n",
       "      <td>9.0</td>\n",
       "      <td>DIVORCIADO</td>\n",
       "      <td>6569.0</td>\n",
       "      <td>65 a 69 anos</td>\n",
       "      <td>1.0</td>\n",
       "      <td>ANALFABETO</td>\n",
       "      <td>4.0</td>\n",
       "      <td>4.0</td>\n",
       "      <td>0.0</td>\n",
       "      <td>0.0</td>\n",
       "    </tr>\n",
       "    <tr>\n",
       "      <th>197</th>\n",
       "      <td>10/09/2020</td>\n",
       "      <td>23:04:11</td>\n",
       "      <td>2020.0</td>\n",
       "      <td>SP</td>\n",
       "      <td>70998.0</td>\n",
       "      <td>SÃO JOSÃ DOS CAMPOS</td>\n",
       "      <td>0.0</td>\n",
       "      <td>Sem biometria</td>\n",
       "      <td>127.0</td>\n",
       "      <td>2.0</td>\n",
       "      <td>MASCULINO</td>\n",
       "      <td>3.0</td>\n",
       "      <td>CASADO</td>\n",
       "      <td>4044.0</td>\n",
       "      <td>40 a 44 anos</td>\n",
       "      <td>6.0</td>\n",
       "      <td>ENSINO MÃDIO COMPLETO</td>\n",
       "      <td>1058.0</td>\n",
       "      <td>1010.0</td>\n",
       "      <td>5.0</td>\n",
       "      <td>0.0</td>\n",
       "    </tr>\n",
       "    <tr>\n",
       "      <th>219</th>\n",
       "      <td>10/09/2020</td>\n",
       "      <td>23:04:11</td>\n",
       "      <td>2020.0</td>\n",
       "      <td>SP</td>\n",
       "      <td>70998.0</td>\n",
       "      <td>SÃO JOSÃ DOS CAMPOS</td>\n",
       "      <td>0.0</td>\n",
       "      <td>Sem biometria</td>\n",
       "      <td>127.0</td>\n",
       "      <td>2.0</td>\n",
       "      <td>MASCULINO</td>\n",
       "      <td>3.0</td>\n",
       "      <td>CASADO</td>\n",
       "      <td>5559.0</td>\n",
       "      <td>55 a 59 anos</td>\n",
       "      <td>4.0</td>\n",
       "      <td>ENSINO FUNDAMENTAL COMPLETO</td>\n",
       "      <td>232.0</td>\n",
       "      <td>211.0</td>\n",
       "      <td>1.0</td>\n",
       "      <td>0.0</td>\n",
       "    </tr>\n",
       "    <tr>\n",
       "      <th>563</th>\n",
       "      <td>10/09/2020</td>\n",
       "      <td>23:04:11</td>\n",
       "      <td>2020.0</td>\n",
       "      <td>SP</td>\n",
       "      <td>70998.0</td>\n",
       "      <td>SÃO JOSÃ DOS CAMPOS</td>\n",
       "      <td>0.0</td>\n",
       "      <td>Sem biometria</td>\n",
       "      <td>282.0</td>\n",
       "      <td>4.0</td>\n",
       "      <td>FEMININO</td>\n",
       "      <td>5.0</td>\n",
       "      <td>VIÃVO</td>\n",
       "      <td>3034.0</td>\n",
       "      <td>30 a 34 anos</td>\n",
       "      <td>5.0</td>\n",
       "      <td>ENSINO MÃDIO INCOMPLETO</td>\n",
       "      <td>1.0</td>\n",
       "      <td>1.0</td>\n",
       "      <td>0.0</td>\n",
       "      <td>0.0</td>\n",
       "    </tr>\n",
       "    <tr>\n",
       "      <th>318</th>\n",
       "      <td>10/09/2020</td>\n",
       "      <td>23:04:11</td>\n",
       "      <td>2020.0</td>\n",
       "      <td>SP</td>\n",
       "      <td>70998.0</td>\n",
       "      <td>SÃO JOSÃ DOS CAMPOS</td>\n",
       "      <td>0.0</td>\n",
       "      <td>Sem biometria</td>\n",
       "      <td>127.0</td>\n",
       "      <td>2.0</td>\n",
       "      <td>MASCULINO</td>\n",
       "      <td>5.0</td>\n",
       "      <td>VIÃVO</td>\n",
       "      <td>5054.0</td>\n",
       "      <td>50 a 54 anos</td>\n",
       "      <td>8.0</td>\n",
       "      <td>SUPERIOR COMPLETO</td>\n",
       "      <td>12.0</td>\n",
       "      <td>12.0</td>\n",
       "      <td>0.0</td>\n",
       "      <td>0.0</td>\n",
       "    </tr>\n",
       "    <tr>\n",
       "      <th>812</th>\n",
       "      <td>10/09/2020</td>\n",
       "      <td>23:04:11</td>\n",
       "      <td>2020.0</td>\n",
       "      <td>SP</td>\n",
       "      <td>70998.0</td>\n",
       "      <td>SÃO JOSÃ DOS CAMPOS</td>\n",
       "      <td>0.0</td>\n",
       "      <td>Sem biometria</td>\n",
       "      <td>282.0</td>\n",
       "      <td>4.0</td>\n",
       "      <td>FEMININO</td>\n",
       "      <td>9.0</td>\n",
       "      <td>DIVORCIADO</td>\n",
       "      <td>6569.0</td>\n",
       "      <td>65 a 69 anos</td>\n",
       "      <td>3.0</td>\n",
       "      <td>ENSINO FUNDAMENTAL INCOMPLETO</td>\n",
       "      <td>74.0</td>\n",
       "      <td>74.0</td>\n",
       "      <td>4.0</td>\n",
       "      <td>0.0</td>\n",
       "    </tr>\n",
       "    <tr>\n",
       "      <th>282</th>\n",
       "      <td>10/09/2020</td>\n",
       "      <td>23:04:11</td>\n",
       "      <td>2020.0</td>\n",
       "      <td>SP</td>\n",
       "      <td>70998.0</td>\n",
       "      <td>SÃO JOSÃ DOS CAMPOS</td>\n",
       "      <td>0.0</td>\n",
       "      <td>Sem biometria</td>\n",
       "      <td>127.0</td>\n",
       "      <td>2.0</td>\n",
       "      <td>MASCULINO</td>\n",
       "      <td>3.0</td>\n",
       "      <td>CASADO</td>\n",
       "      <td>9599.0</td>\n",
       "      <td>95 a 99 anos</td>\n",
       "      <td>3.0</td>\n",
       "      <td>ENSINO FUNDAMENTAL INCOMPLETO</td>\n",
       "      <td>70.0</td>\n",
       "      <td>3.0</td>\n",
       "      <td>0.0</td>\n",
       "      <td>0.0</td>\n",
       "    </tr>\n",
       "    <tr>\n",
       "      <th>73</th>\n",
       "      <td>10/09/2020</td>\n",
       "      <td>23:04:11</td>\n",
       "      <td>2020.0</td>\n",
       "      <td>SP</td>\n",
       "      <td>70998.0</td>\n",
       "      <td>SÃO JOSÃ DOS CAMPOS</td>\n",
       "      <td>0.0</td>\n",
       "      <td>Sem biometria</td>\n",
       "      <td>127.0</td>\n",
       "      <td>2.0</td>\n",
       "      <td>MASCULINO</td>\n",
       "      <td>1.0</td>\n",
       "      <td>SOLTEIRO</td>\n",
       "      <td>4044.0</td>\n",
       "      <td>40 a 44 anos</td>\n",
       "      <td>7.0</td>\n",
       "      <td>SUPERIOR INCOMPLETO</td>\n",
       "      <td>133.0</td>\n",
       "      <td>86.0</td>\n",
       "      <td>1.0</td>\n",
       "      <td>0.0</td>\n",
       "    </tr>\n",
       "    <tr>\n",
       "      <th>1</th>\n",
       "      <td>10/09/2020</td>\n",
       "      <td>23:04:11</td>\n",
       "      <td>2020.0</td>\n",
       "      <td>SP</td>\n",
       "      <td>70998.0</td>\n",
       "      <td>SÃO JOSÃ DOS CAMPOS</td>\n",
       "      <td>0.0</td>\n",
       "      <td>Sem biometria</td>\n",
       "      <td>127.0</td>\n",
       "      <td>0.0</td>\n",
       "      <td>NÃO INFORMADO</td>\n",
       "      <td>0.0</td>\n",
       "      <td>NÃO INFORMADO</td>\n",
       "      <td>8589.0</td>\n",
       "      <td>85 a 89 anos</td>\n",
       "      <td>2.0</td>\n",
       "      <td>LÃ E ESCREVE</td>\n",
       "      <td>1.0</td>\n",
       "      <td>0.0</td>\n",
       "      <td>0.0</td>\n",
       "      <td>0.0</td>\n",
       "    </tr>\n",
       "  </tbody>\n",
       "</table>\n",
       "</div>"
      ],
      "text/plain": [
       "    ï»¿DT_GERACAO HH_GERACAO  ANO_ELEICAO SG_UF  CD_MUNICIPIO  \\\n",
       "36     10/09/2020   23:04:11       2020.0    SP       70998.0   \n",
       "809    10/09/2020   23:04:11       2020.0    SP       70998.0   \n",
       "197    10/09/2020   23:04:11       2020.0    SP       70998.0   \n",
       "219    10/09/2020   23:04:11       2020.0    SP       70998.0   \n",
       "563    10/09/2020   23:04:11       2020.0    SP       70998.0   \n",
       "318    10/09/2020   23:04:11       2020.0    SP       70998.0   \n",
       "812    10/09/2020   23:04:11       2020.0    SP       70998.0   \n",
       "282    10/09/2020   23:04:11       2020.0    SP       70998.0   \n",
       "73     10/09/2020   23:04:11       2020.0    SP       70998.0   \n",
       "1      10/09/2020   23:04:11       2020.0    SP       70998.0   \n",
       "\n",
       "              NM_MUNICIPIO  CD_MUN_SIT_BIOMETRIA DS_MUN_SIT_BIOMETRIA  \\\n",
       "36   SÃO JOSÃ DOS CAMPOS                   0.0        Sem biometria   \n",
       "809  SÃO JOSÃ DOS CAMPOS                   0.0        Sem biometria   \n",
       "197  SÃO JOSÃ DOS CAMPOS                   0.0        Sem biometria   \n",
       "219  SÃO JOSÃ DOS CAMPOS                   0.0        Sem biometria   \n",
       "563  SÃO JOSÃ DOS CAMPOS                   0.0        Sem biometria   \n",
       "318  SÃO JOSÃ DOS CAMPOS                   0.0        Sem biometria   \n",
       "812  SÃO JOSÃ DOS CAMPOS                   0.0        Sem biometria   \n",
       "282  SÃO JOSÃ DOS CAMPOS                   0.0        Sem biometria   \n",
       "73   SÃO JOSÃ DOS CAMPOS                   0.0        Sem biometria   \n",
       "1    SÃO JOSÃ DOS CAMPOS                   0.0        Sem biometria   \n",
       "\n",
       "     NR_ZONA  CD_GENERO       DS_GENERO  CD_ESTADO_CIVIL DS_ESTADO_CIVIL  \\\n",
       "36     127.0        2.0       MASCULINO              1.0        SOLTEIRO   \n",
       "809    282.0        4.0        FEMININO              9.0      DIVORCIADO   \n",
       "197    127.0        2.0       MASCULINO              3.0          CASADO   \n",
       "219    127.0        2.0       MASCULINO              3.0          CASADO   \n",
       "563    282.0        4.0        FEMININO              5.0          VIÃVO   \n",
       "318    127.0        2.0       MASCULINO              5.0          VIÃVO   \n",
       "812    282.0        4.0        FEMININO              9.0      DIVORCIADO   \n",
       "282    127.0        2.0       MASCULINO              3.0          CASADO   \n",
       "73     127.0        2.0       MASCULINO              1.0        SOLTEIRO   \n",
       "1      127.0        0.0  NÃO INFORMADO              0.0  NÃO INFORMADO   \n",
       "\n",
       "     CD_FAIXA_ETARIA                 DS_FAIXA_ETARIA  CD_GRAU_ESCOLARIDADE  \\\n",
       "36            2124.0  21 a 24 anos                                     2.0   \n",
       "809           6569.0  65 a 69 anos                                     1.0   \n",
       "197           4044.0  40 a 44 anos                                     6.0   \n",
       "219           5559.0  55 a 59 anos                                     4.0   \n",
       "563           3034.0  30 a 34 anos                                     5.0   \n",
       "318           5054.0  50 a 54 anos                                     8.0   \n",
       "812           6569.0  65 a 69 anos                                     3.0   \n",
       "282           9599.0  95 a 99 anos                                     3.0   \n",
       "73            4044.0  40 a 44 anos                                     7.0   \n",
       "1             8589.0  85 a 89 anos                                     2.0   \n",
       "\n",
       "              DS_GRAU_ESCOLARIDADE  QT_ELEITORES_PERFIL  \\\n",
       "36                   LÃ E ESCREVE                  8.0   \n",
       "809                     ANALFABETO                  4.0   \n",
       "197         ENSINO MÃDIO COMPLETO               1058.0   \n",
       "219    ENSINO FUNDAMENTAL COMPLETO                232.0   \n",
       "563       ENSINO MÃDIO INCOMPLETO                  1.0   \n",
       "318              SUPERIOR COMPLETO                 12.0   \n",
       "812  ENSINO FUNDAMENTAL INCOMPLETO                 74.0   \n",
       "282  ENSINO FUNDAMENTAL INCOMPLETO                 70.0   \n",
       "73             SUPERIOR INCOMPLETO                133.0   \n",
       "1                    LÃ E ESCREVE                  1.0   \n",
       "\n",
       "     QT_ELEITORES_BIOMETRIA  QT_ELEITORES_DEFICIENCIA  \\\n",
       "36                      8.0                       1.0   \n",
       "809                     4.0                       0.0   \n",
       "197                  1010.0                       5.0   \n",
       "219                   211.0                       1.0   \n",
       "563                     1.0                       0.0   \n",
       "318                    12.0                       0.0   \n",
       "812                    74.0                       4.0   \n",
       "282                     3.0                       0.0   \n",
       "73                     86.0                       1.0   \n",
       "1                       0.0                       0.0   \n",
       "\n",
       "     QT_ELEITORES_INC_NM_SOCIAL  \n",
       "36                          0.0  \n",
       "809                         0.0  \n",
       "197                         0.0  \n",
       "219                         0.0  \n",
       "563                         0.0  \n",
       "318                         0.0  \n",
       "812                         0.0  \n",
       "282                         0.0  \n",
       "73                          0.0  \n",
       "1                           0.0  "
      ]
     },
     "execution_count": 65,
     "metadata": {},
     "output_type": "execute_result"
    }
   ],
   "source": [
    "#Mostrando alguns resultados\n",
    "\n",
    "df.sample(10)"
   ]
  },
  {
   "cell_type": "code",
   "execution_count": 72,
   "metadata": {},
   "outputs": [
    {
     "data": {
      "text/plain": [
       "DS_GENERO\n",
       "MASCULINO         89672.0\n",
       "FEMININO          43037.0\n",
       "NÃO INFORMADO       11.0\n",
       "Name: QT_ELEITORES_PERFIL, dtype: float64"
      ]
     },
     "execution_count": 72,
     "metadata": {},
     "output_type": "execute_result"
    }
   ],
   "source": [
    "#Somando alguns Valores\n",
    "\n",
    "df.groupby('DS_GENERO')['QT_ELEITORES_PERFIL'].sum().sort_values(ascending=False)"
   ]
  },
  {
   "cell_type": "code",
   "execution_count": 87,
   "metadata": {},
   "outputs": [
    {
     "data": {
      "text/plain": [
       "<AxesSubplot:ylabel='DS_GENERO'>"
      ]
     },
     "execution_count": 87,
     "metadata": {},
     "output_type": "execute_result"
    },
    {
     "data": {
      "image/png": "[encoded data removed]",
      "text/plain": [
       "<Figure size 432x288 with 1 Axes>"
      ]
     },
     "metadata": {
      "needs_background": "light"
     },
     "output_type": "display_data"
    }
   ],
   "source": [
    "#Quantidades de pessoas Votando de acordo com o gênero\n",
    "\n",
    "df.groupby('DS_GENERO')['QT_ELEITORES_PERFIL'].sum().sort_values().tail(5).plot(kind='barh')"
   ]
  },
  {
   "cell_type": "code",
   "execution_count": 103,
   "metadata": {},
   "outputs": [
    {
     "data": {
      "image/png": "[encoded data removed]",
      "text/plain": [
       "<Figure size 432x288 with 1 Axes>"
      ]
     },
     "metadata": {
      "needs_background": "light"
     },
     "output_type": "display_data"
    }
   ],
   "source": [
    "#Quantidades de pessoas Votando de acordo com a idade\n",
    "\n",
    "df.groupby('DS_FAIXA_ETARIA')['QT_ELEITORES_PERFIL'].sum().sort_values().tail(22).plot(kind='bar')\n",
    "\n"
   ]
  },
  {
   "cell_type": "code",
   "execution_count": 106,
   "metadata": {},
   "outputs": [
    {
     "data": {
      "text/plain": [
       "<AxesSubplot:xlabel='DS_ESTADO_CIVIL'>"
      ]
     },
     "execution_count": 106,
     "metadata": {},
     "output_type": "execute_result"
    },
    {
     "data": {
      "image/png": "[encoded data removed]",
      "text/plain": [
       "<Figure size 432x288 with 1 Axes>"
      ]
     },
     "metadata": {
      "needs_background": "light"
     },
     "output_type": "display_data"
    }
   ],
   "source": [
    "#Quantidades de pessoas Votando de acordo com o estado civil\n",
    "\n",
    "df.groupby('DS_ESTADO_CIVIL')['QT_ELEITORES_PERFIL'].sum().sort_values().tail(22).plot(kind='bar')\n"
   ]
  },
  {
   "cell_type": "code",
   "execution_count": 119,
   "metadata": {},
   "outputs": [
    {
     "data": {
      "text/plain": [
       "<AxesSubplot:xlabel='DS_GRAU_ESCOLARIDADE'>"
      ]
     },
     "execution_count": 119,
     "metadata": {},
     "output_type": "execute_result"
    },
    {
     "data": {
      "image/png": "[encoded data removed]",
      "text/plain": [
       "<Figure size 432x288 with 1 Axes>"
      ]
     },
     "metadata": {
      "needs_background": "light"
     },
     "output_type": "display_data"
    }
   ],
   "source": [
    "#Quantidades de pessoas Votando de acordo com a escolaridade\n",
    "\n",
    "df.groupby('DS_GRAU_ESCOLARIDADE')['QT_ELEITORES_PERFIL'].sum().sort_values().tail(22).plot(kind='bar')"
   ]
  },
  {
   "cell_type": "code",
   "execution_count": 121,
   "metadata": {},
   "outputs": [
    {
     "data": {
      "text/plain": [
       "<AxesSubplot:xlabel='NR_ZONA'>"
      ]
     },
     "execution_count": 121,
     "metadata": {},
     "output_type": "execute_result"
    },
    {
     "data": {
      "image/png": "[encoded data removed]",
      "text/plain": [
       "<Figure size 432x288 with 1 Axes>"
      ]
     },
     "metadata": {
      "needs_background": "light"
     },
     "output_type": "display_data"
    }
   ],
   "source": [
    "#Quantidades de pessoas Votando de acordo com as zonas Analisadas\n",
    "\n",
    "df.groupby('NR_ZONA')['QT_ELEITORES_PERFIL'].sum().sort_values().tail(22).plot(kind='bar')"
   ]
  },
  {
   "cell_type": "code",
   "execution_count": null,
   "metadata": {},
   "outputs": [],
   "source": []
  }
 ],
 "metadata": {
  "kernelspec": {
   "display_name": "Python 3",
   "language": "python",
   "name": "python3"
  },
  "language_info": {
   "codemirror_mode": {
    "name": "ipython",
    "version": 3
   },
   "file_extension": ".py",
   "mimetype": "text/x-python",
   "name": "python",
   "nbconvert_exporter": "python",
   "pygments_lexer": "ipython3",
   "version": "3.8.5"
  }
 },
 "nbformat": 4,
 "nbformat_minor": 4
}
